{
 "cells": [
  {
   "cell_type": "markdown",
   "metadata": {},
   "source": [
    "<h1>SVM (Support Vector Machine)</h1>"
   ]
  },
  {
   "cell_type": "markdown",
   "metadata": {},
   "source": [
    "Метод опорных векторов (далее SVM) - алгоритм машинного обучения, основной идеей которого является проекция данных в пространство большей размерности и нахождение разделяющей гиперплоскости с максимальным зазором. "
   ]
  },
  {
   "cell_type": "markdown",
   "metadata": {},
   "source": [
    "Задача классификации: основываясь на поминутных записях активности человека, определить, является ли он больным шизофренией."
   ]
  },
  {
   "cell_type": "markdown",
   "metadata": {},
   "source": [
    "<h3>Немного математики</h3>"
   ]
  },
  {
   "cell_type": "markdown",
   "metadata": {},
   "source": [
    "Пускай обучающая выборка X состоит из n-мерных вещщественных (каждое значение $\\in \\mathbb{R}$) векторов, и для каждого такого вектора задана метка y = {-1, 1}. Множество меток для каждого вектора - Y. Тогда алгоритм классификации $a : X \\to Y $"
   ]
  },
  {
   "cell_type": "markdown",
   "metadata": {},
   "source": [
    "Построим линейный пороговый классификатор:\n",
    "\n",
    "$$a(x) = sign\\left(\\sum_{j=1}^{n} w_j x^j - w_0 \\right) = sign(\\langle w, x \\rangle - w_0) $$"
   ]
  },
  {
   "cell_type": "markdown",
   "metadata": {},
   "source": [
    "Предположим, что выборка линейно-разделима, т.е. кол-во ошибок классификации \n",
    "$$\\sum_{i=1}^{l} \\left[y_i(\\langle w, x\\rangle - w_0)\\right \\lt 0]$$\n",
    "\n",
    "равно нулю. Очевидно, что таких гиперплоскостей существует множество, и идея метода состоит в том, чтобы разумно использовать это свойство. Выберем пограничные точки (ближайшие к разделяющей гиперплоскости) следующим способом:\n",
    "$$\\langle w, x\\rangle - w_0 = y_i$$"
   ]
  },
  {
   "cell_type": "markdown",
   "metadata": {},
   "source": [
    "Ширина полосы, заданная неравенством, исходя из пограничных точек, является максимальной, когда норма $w$ минимальна.\n",
    "\n",
    "Тогда задача сводится к задаче квадратичного программирования."
   ]
  },
  {
   "cell_type": "markdown",
   "metadata": {},
   "source": [
    "Для случая линейно неразделимой выборки используется классификация с мягким зазором, используя двойственные переменные или ядерный трюк (kernel trick), который использует функцию ядро для перевода $X \\times X \\to H$. \n",
    "\n",
    "Функция $K : X \\times X \\to H$ является ядром, если есть такая функция $\\phi$, такая что $K(x, x^{'}) =  \\ \\langle \\phi(x), \\phi(x^{'} \\rangle$. Также существует теорема Мерсера (1909), которая описывает необходимое условие для того, чтобы функция являлась ядром."
   ]
  },
  {
   "cell_type": "markdown",
   "metadata": {},
   "source": [
    "Реализуем SVM с помощью sklearn."
   ]
  },
  {
   "cell_type": "markdown",
   "metadata": {},
   "source": [
    "<h2>Настраиваем генератор данных</h2>"
   ]
  },
  {
   "cell_type": "markdown",
   "metadata": {},
   "source": [
    "Для начала надо реализовать подачу данных для модели. В Python существует функция-генератор, которую мы и будем использовать."
   ]
  },
  {
   "cell_type": "code",
   "execution_count": 1,
   "metadata": {},
   "outputs": [],
   "source": [
    "import os\n",
    "\n",
    "import pandas as pd\n",
    "import numpy as np\n",
    "\n",
    "from sklearn import svm\n",
    "from sklearn.model_selection import train_test_split\n",
    "from sklearn.metrics import accuracy_score\n",
    "from sklearn.pipeline import Pipeline\n",
    "from sklearn.preprocessing import Normalizer"
   ]
  },
  {
   "cell_type": "code",
   "execution_count": 2,
   "metadata": {},
   "outputs": [],
   "source": [
    "def gen_data(path:str):\n",
    "    '''Function, that generates data from path\\control and path\\patient.'''\n",
    "    \n",
    "    # generating control objects\n",
    "    for file in os.listdir(os.path.join(path, 'control')):\n",
    "    \n",
    "        # building full-name of file\n",
    "        full_file = os.path.join(path, os.path.join('control', file))\n",
    "        \n",
    "        # reading .csv file\n",
    "        df = pd.read_csv(full_file)\n",
    "        \n",
    "        # generating activity of object and label\n",
    "        yield df['activity'], 0\n",
    "        \n",
    "    \n",
    "    # generating patient objects\n",
    "    for file in os.listdir(os.path.join(path, 'patient')):\n",
    "    \n",
    "        # building full-name of file\n",
    "        full_file = os.path.join(path, os.path.join('patient', file))\n",
    "        \n",
    "        # reading .csv file\n",
    "        df = pd.read_csv(full_file)\n",
    "        \n",
    "        # generating activity of object and label\n",
    "        yield df['activity'].values, 1"
   ]
  },
  {
   "cell_type": "markdown",
   "metadata": {},
   "source": [
    "Т. к. у нас обучающая выборка маленькая, то мы можем загрузить все данные в RAM."
   ]
  },
  {
   "cell_type": "code",
   "execution_count": 3,
   "metadata": {},
   "outputs": [
    {
     "data": {
      "text/plain": [
       "[(0          30\n",
       "  1         130\n",
       "  2          70\n",
       "  3           3\n",
       "  4           3\n",
       "  5           3\n",
       "  6           3\n",
       "  7           3\n",
       "  8           3\n",
       "  9           3\n",
       "  10          3\n",
       "  11          3\n",
       "  12          3\n",
       "  13          3\n",
       "  14          3\n",
       "  15          3\n",
       "  16          3\n",
       "  17          3\n",
       "  18          3\n",
       "  19          3\n",
       "  20          3\n",
       "  21          3\n",
       "  22          3\n",
       "  23          3\n",
       "  24          3\n",
       "  25          3\n",
       "  26          3\n",
       "  27          3\n",
       "  28          3\n",
       "  29          3\n",
       "           ... \n",
       "  20130     809\n",
       "  20131     835\n",
       "  20132     835\n",
       "  20133     587\n",
       "  20134     386\n",
       "  20135     689\n",
       "  20136     646\n",
       "  20137     646\n",
       "  20138     667\n",
       "  20139     172\n",
       "  20140     919\n",
       "  20141     286\n",
       "  20142     120\n",
       "  20143     338\n",
       "  20144     550\n",
       "  20145     835\n",
       "  20146     689\n",
       "  20147     268\n",
       "  20148     166\n",
       "  20149     689\n",
       "  20150     373\n",
       "  20151     204\n",
       "  20152     411\n",
       "  20153     317\n",
       "  20154     439\n",
       "  20155     485\n",
       "  20156     398\n",
       "  20157     646\n",
       "  20158    1474\n",
       "  20159    1474\n",
       "  Name: activity, Length: 20160, dtype: int64, 0), (0          5\n",
       "  1          3\n",
       "  2          3\n",
       "  3          3\n",
       "  4          3\n",
       "  5          3\n",
       "  6          3\n",
       "  7          3\n",
       "  8          3\n",
       "  9          3\n",
       "  10         3\n",
       "  11         3\n",
       "  12         3\n",
       "  13         3\n",
       "  14         3\n",
       "  15         3\n",
       "  16         3\n",
       "  17         3\n",
       "  18         3\n",
       "  19         3\n",
       "  20         3\n",
       "  21         3\n",
       "  22         3\n",
       "  23         3\n",
       "  24         3\n",
       "  25         3\n",
       "  26         3\n",
       "  27         3\n",
       "  28         3\n",
       "  29         3\n",
       "          ... \n",
       "  20130    485\n",
       "  20131     29\n",
       "  20132    361\n",
       "  20133    148\n",
       "  20134     49\n",
       "  20135    454\n",
       "  20136    338\n",
       "  20137    178\n",
       "  20138    172\n",
       "  20139     79\n",
       "  20140    178\n",
       "  20141    425\n",
       "  20142    373\n",
       "  20143    425\n",
       "  20144    166\n",
       "  20145    178\n",
       "  20146     29\n",
       "  20147     38\n",
       "  20148    386\n",
       "  20149    166\n",
       "  20150    178\n",
       "  20151    242\n",
       "  20152    306\n",
       "  20153    148\n",
       "  20154    425\n",
       "  20155    485\n",
       "  20156    148\n",
       "  20157    172\n",
       "  20158    500\n",
       "  20159     79\n",
       "  Name: activity, Length: 20160, dtype: int64, 0), (0        3\n",
       "  1        2\n",
       "  2        0\n",
       "  3        0\n",
       "  4        0\n",
       "  5        0\n",
       "  6        0\n",
       "  7        0\n",
       "  8        0\n",
       "  9        0\n",
       "  10       0\n",
       "  11       2\n",
       "  12       2\n",
       "  13       2\n",
       "  14       2\n",
       "  15       2\n",
       "  16       2\n",
       "  17       2\n",
       "  18       2\n",
       "  19       2\n",
       "  20       2\n",
       "  21       2\n",
       "  22       2\n",
       "  23       2\n",
       "  24       2\n",
       "  25       2\n",
       "  26       2\n",
       "  27       2\n",
       "  28       2\n",
       "  29       2\n",
       "          ..\n",
       "  20130    0\n",
       "  20131    0\n",
       "  20132    0\n",
       "  20133    0\n",
       "  20134    0\n",
       "  20135    0\n",
       "  20136    0\n",
       "  20137    0\n",
       "  20138    0\n",
       "  20139    0\n",
       "  20140    0\n",
       "  20141    0\n",
       "  20142    0\n",
       "  20143    0\n",
       "  20144    0\n",
       "  20145    0\n",
       "  20146    0\n",
       "  20147    0\n",
       "  20148    0\n",
       "  20149    0\n",
       "  20150    0\n",
       "  20151    0\n",
       "  20152    0\n",
       "  20153    0\n",
       "  20154    0\n",
       "  20155    0\n",
       "  20156    0\n",
       "  20157    0\n",
       "  20158    0\n",
       "  20159    0\n",
       "  Name: activity, Length: 20160, dtype: int64, 0)]"
      ]
     },
     "execution_count": 3,
     "metadata": {},
     "output_type": "execute_result"
    }
   ],
   "source": [
    "data = [pair for pair in gen_data('data')]\n",
    "\n",
    "data[:3]"
   ]
  },
  {
   "cell_type": "markdown",
   "metadata": {},
   "source": [
    "Теперь разделим данные на X и Y."
   ]
  },
  {
   "cell_type": "code",
   "execution_count": 4,
   "metadata": {},
   "outputs": [
    {
     "data": {
      "text/plain": [
       "(array([[  30,  130,   70, ...,  646, 1474, 1474],\n",
       "        [   5,    3,    3, ...,  172,  500,   79],\n",
       "        [   3,    2,    0, ...,    0,    0,    0]], dtype=int64),\n",
       " array([0, 0, 0]))"
      ]
     },
     "execution_count": 4,
     "metadata": {},
     "output_type": "execute_result"
    }
   ],
   "source": [
    "# X set with values of acitivity\n",
    "X = np.array([pair[0] for pair in data])\n",
    "\n",
    "# Y set with labels\n",
    "Y = np.array([pair[1] for pair in data])\n",
    "\n",
    "# we don't need this list \n",
    "del data\n",
    "\n",
    "X[:3], Y[:3]"
   ]
  },
  {
   "cell_type": "markdown",
   "metadata": {},
   "source": [
    "С помощью функции train_test_split разделим данные на тренировочные и тестовые в пропорции 17:3. "
   ]
  },
  {
   "cell_type": "code",
   "execution_count": 5,
   "metadata": {
    "scrolled": true
   },
   "outputs": [
    {
     "data": {
      "text/plain": [
       "(31, 6)"
      ]
     },
     "execution_count": 5,
     "metadata": {},
     "output_type": "execute_result"
    }
   ],
   "source": [
    "# splitting data to train/test\n",
    "X_train, X_test, Y_train, Y_test = train_test_split(X, Y, shuffle=True, test_size=0.15)\n",
    "\n",
    "len(X_train), len(X_test)"
   ]
  },
  {
   "cell_type": "markdown",
   "metadata": {},
   "source": [
    "Создадим модель машинного обучения и оценим её точность на тренировочных и тестовых данных."
   ]
  },
  {
   "cell_type": "code",
   "execution_count": 6,
   "metadata": {},
   "outputs": [
    {
     "name": "stdout",
     "output_type": "stream",
     "text": [
      "Test accuracy score is 0.3333333333333333\n",
      "Train accuracy score is 1.0\n"
     ]
    }
   ],
   "source": [
    "# creating model\n",
    "model = svm.SVC(gamma='auto')\n",
    "\n",
    "# fitting\n",
    "model.fit(X_train, Y_train)\n",
    "\n",
    "# predictions for test data\n",
    "test_predicted = model.predict(X_test)\n",
    "\n",
    "# predictions for train data\n",
    "train_predicted = model.predict(X_train)\n",
    "\n",
    "# output\n",
    "print(f'Test accuracy score is {accuracy_score(test_predicted, Y_test)}')\n",
    "print(f'Train accuracy score is {accuracy_score(train_predicted, Y_train)}')"
   ]
  },
  {
   "cell_type": "markdown",
   "metadata": {},
   "source": [
    "Как мы видим, модель столкнулась с переобучением. Попробуем изменить параметр С, который отвечает за регуляризацию."
   ]
  },
  {
   "cell_type": "code",
   "execution_count": 7,
   "metadata": {},
   "outputs": [
    {
     "name": "stdout",
     "output_type": "stream",
     "text": [
      "Test accuracy score is 0.3333333333333333\n",
      "Train accuracy score is 0.5806451612903226\n"
     ]
    }
   ],
   "source": [
    "# creating model\n",
    "model = svm.SVC(gamma='auto', C=0.1)\n",
    "\n",
    "# fitting\n",
    "model.fit(X_train, Y_train)\n",
    "\n",
    "# predictions for test data\n",
    "test_predicted = model.predict(X_test)\n",
    "\n",
    "# predictions for train data\n",
    "train_predicted = model.predict(X_train)\n",
    "\n",
    "print(f'Test accuracy score is {accuracy_score(test_predicted, Y_test)}')\n",
    "print(f'Train accuracy score is {accuracy_score(train_predicted, Y_train)}')"
   ]
  },
  {
   "cell_type": "markdown",
   "metadata": {},
   "source": [
    "Стало ещё хуже, однако в наших данных есть одна проблема. Они не приведены к общему диапазону, т.е. признак с большим значением является более важным, чем тот, который имеет маленькое значение, однако это неправильно. Для этого мы создадим конвейер, который будет приводить  нормализировать данные, а затем выполнять предсказывание или обучение модели."
   ]
  },
  {
   "cell_type": "code",
   "execution_count": 8,
   "metadata": {},
   "outputs": [],
   "source": [
    "# creating normalizer object \n",
    "normalizer = Normalizer()\n",
    "\n",
    "# creating SVC model\n",
    "model = svm.SVC(gamma='auto', C=0.1)\n",
    "\n",
    "# creating pipeline\n",
    "steps = [('normalizer', normalizer), ('classifier', model)]\n",
    "pipeline = Pipeline(steps)"
   ]
  },
  {
   "cell_type": "code",
   "execution_count": 9,
   "metadata": {},
   "outputs": [
    {
     "name": "stdout",
     "output_type": "stream",
     "text": [
      "Test accuracy score is 0.3333333333333333\n",
      "Train accuracy score is 0.5806451612903226\n"
     ]
    }
   ],
   "source": [
    "# fitting\n",
    "pipeline.fit(X_train, Y_train)\n",
    "\n",
    "# predictions for test data\n",
    "test_predicted = pipeline.predict(X_test)\n",
    "\n",
    "# predictions for train data\n",
    "train_predicted = pipeline.predict(X_train)\n",
    "\n",
    "print(f'Test accuracy score is {accuracy_score(test_predicted, Y_test)}')\n",
    "print(f'Train accuracy score is {accuracy_score(train_predicted, Y_train)}')"
   ]
  },
  {
   "cell_type": "markdown",
   "metadata": {},
   "source": [
    "Опять мы не получаем нужной \"мощности\" модели. Предположительно, это связанно с тем, что модель не учитывает разницу в активности за какой-то промежуток. И это я собираюсь исправить с помощью рекуррентной нейронной сети, о чём смотрите в LSTM.ipynb."
   ]
  }
 ],
 "metadata": {
  "kernelspec": {
   "display_name": "Python 3",
   "language": "python",
   "name": "python3"
  },
  "language_info": {
   "codemirror_mode": {
    "name": "ipython",
    "version": 3
   },
   "file_extension": ".py",
   "mimetype": "text/x-python",
   "name": "python",
   "nbconvert_exporter": "python",
   "pygments_lexer": "ipython3",
   "version": "3.7.3"
  }
 },
 "nbformat": 4,
 "nbformat_minor": 2
}
